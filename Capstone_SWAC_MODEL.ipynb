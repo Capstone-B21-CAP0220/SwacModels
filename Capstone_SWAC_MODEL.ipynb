{
  "nbformat": 4,
  "nbformat_minor": 0,
  "metadata": {
    "colab": {
      "name": "Capstone_SWAC_MODEL.ipynb",
      "provenance": [],
      "toc_visible": true
    },
    "kernelspec": {
      "name": "python3",
      "display_name": "Python 3"
    },
    "language_info": {
      "name": "python"
    }
  },
  "cells": [
    {
      "cell_type": "markdown",
      "metadata": {
        "id": "VxjOQu5Mhs7S"
      },
      "source": [
        "Model For Text Classification "
      ]
    },
    {
      "cell_type": "markdown",
      "metadata": {
        "id": "wJXF7q_Memom"
      },
      "source": [
        "## Setup Mount Drive,Install And Import All Package"
      ]
    },
    {
      "cell_type": "code",
      "metadata": {
        "colab": {
          "base_uri": "https://localhost:8080/"
        },
        "id": "mvFi5MzCWYoW",
        "outputId": "62d73abb-a5e9-4aad-82a9-bb2d92ef2254"
      },
      "source": [
        "# Mounting data in Google Drive\n",
        "from google.colab import drive\n",
        "drive.mount('/content/drive')"
      ],
      "execution_count": 3,
      "outputs": [
        {
          "output_type": "stream",
          "text": [
            "Mounted at /content/drive\n"
          ],
          "name": "stdout"
        }
      ]
    },
    {
      "cell_type": "code",
      "metadata": {
        "id": "PJy3j0OETQK6",
        "colab": {
          "base_uri": "https://localhost:8080/"
        },
        "outputId": "b24c9504-80be-46a9-e5b7-2f0ca9514a77"
      },
      "source": [
        "import tensorflow as tf\n",
        "import numpy as np\n",
        "import pandas as pd\n",
        "import csv\n",
        "import re\n",
        "import nltk\n",
        "import string\n",
        "import pickle\n",
        "\n",
        "from nltk.corpus import stopwords\n",
        "from nltk.tokenize import word_tokenize, sent_tokenize\n",
        "from tensorflow.keras.preprocessing.text import Tokenizer\n",
        "from tensorflow.keras.preprocessing.sequence import pad_sequences\n",
        "# from Sastrawi.Stemmer.StemmerFactory import StemmerFactory\n",
        "\n",
        "#Visualization\n",
        "import matplotlib.pyplot as plt\n",
        "import seaborn as sns\n",
        "print(\"TF Version : {}\".format(tf.__version__))"
      ],
      "execution_count": 1,
      "outputs": [
        {
          "output_type": "stream",
          "text": [
            "TF Version : 2.5.0\n"
          ],
          "name": "stdout"
        }
      ]
    },
    {
      "cell_type": "code",
      "metadata": {
        "colab": {
          "base_uri": "https://localhost:8080/"
        },
        "id": "Ge4-e3aCcSwP",
        "outputId": "92cf41e0-f966-454c-8576-f24ec91f13d6"
      },
      "source": [
        "!pip install pickle5"
      ],
      "execution_count": 38,
      "outputs": [
        {
          "output_type": "stream",
          "text": [
            "Collecting pickle5\n",
            "\u001b[?25l  Downloading https://files.pythonhosted.org/packages/f7/4c/5c4dd0462c8d3a6bc4af500a6af240763c2ebd1efdc736fc2c946d44b70a/pickle5-0.0.11.tar.gz (132kB)\n",
            "\r\u001b[K     |██▌                             | 10kB 11.0MB/s eta 0:00:01\r\u001b[K     |█████                           | 20kB 16.1MB/s eta 0:00:01\r\u001b[K     |███████▍                        | 30kB 12.9MB/s eta 0:00:01\r\u001b[K     |██████████                      | 40kB 10.1MB/s eta 0:00:01\r\u001b[K     |████████████▍                   | 51kB 5.4MB/s eta 0:00:01\r\u001b[K     |██████████████▉                 | 61kB 5.4MB/s eta 0:00:01\r\u001b[K     |█████████████████▍              | 71kB 5.8MB/s eta 0:00:01\r\u001b[K     |███████████████████▉            | 81kB 6.3MB/s eta 0:00:01\r\u001b[K     |██████████████████████▎         | 92kB 6.3MB/s eta 0:00:01\r\u001b[K     |████████████████████████▉       | 102kB 5.2MB/s eta 0:00:01\r\u001b[K     |███████████████████████████▎    | 112kB 5.2MB/s eta 0:00:01\r\u001b[K     |█████████████████████████████▊  | 122kB 5.2MB/s eta 0:00:01\r\u001b[K     |████████████████████████████████| 133kB 5.2MB/s \n",
            "\u001b[?25hBuilding wheels for collected packages: pickle5\n",
            "  Building wheel for pickle5 (setup.py) ... \u001b[?25l\u001b[?25hdone\n",
            "  Created wheel for pickle5: filename=pickle5-0.0.11-cp37-cp37m-linux_x86_64.whl size=219280 sha256=324cc885d021be1725ea0098678c6a1ac3fe7d80451a4360e5d5bd2450170a6a\n",
            "  Stored in directory: /root/.cache/pip/wheels/a6/90/95/f889ca4aa8b0e0c7f21c8470b6f5d6032f0390a3a141a9a3bd\n",
            "Successfully built pickle5\n",
            "Installing collected packages: pickle5\n",
            "Successfully installed pickle5-0.0.11\n"
          ],
          "name": "stdout"
        }
      ]
    },
    {
      "cell_type": "code",
      "metadata": {
        "colab": {
          "base_uri": "https://localhost:8080/"
        },
        "id": "A6rjKG90Zv1Q",
        "outputId": "cbd1a761-4340-43b5-cfe9-d7b418aedc97"
      },
      "source": [
        "nltk.download('punkt')"
      ],
      "execution_count": 17,
      "outputs": [
        {
          "output_type": "stream",
          "text": [
            "[nltk_data] Downloading package punkt to /root/nltk_data...\n",
            "[nltk_data]   Unzipping tokenizers/punkt.zip.\n"
          ],
          "name": "stdout"
        },
        {
          "output_type": "execute_result",
          "data": {
            "text/plain": [
              "True"
            ]
          },
          "metadata": {
            "tags": []
          },
          "execution_count": 17
        }
      ]
    },
    {
      "cell_type": "markdown",
      "metadata": {
        "id": "mYJCwLfSe6px"
      },
      "source": [
        "## Download Dataset From Github"
      ]
    },
    {
      "cell_type": "code",
      "metadata": {
        "colab": {
          "base_uri": "https://localhost:8080/",
          "height": 444
        },
        "id": "qQWI7HGaUVfG",
        "outputId": "448c01d8-31e2-484f-dd32-3880696f846b"
      },
      "source": [
        "URL_PATH = 'https://github.com/Capstone-B21-CAP0220/Dataset/blob/main/DatasetSAPPA.zip?raw=true'\n",
        "df = pd.read_csv(URL_PATH, compression='zip', sep=',', quotechar='\"')\n",
        "df.head(3)"
      ],
      "execution_count": 44,
      "outputs": [
        {
          "output_type": "execute_result",
          "data": {
            "text/html": [
              "<div>\n",
              "<style scoped>\n",
              "    .dataframe tbody tr th:only-of-type {\n",
              "        vertical-align: middle;\n",
              "    }\n",
              "\n",
              "    .dataframe tbody tr th {\n",
              "        vertical-align: top;\n",
              "    }\n",
              "\n",
              "    .dataframe thead th {\n",
              "        text-align: right;\n",
              "    }\n",
              "</style>\n",
              "<table border=\"1\" class=\"dataframe\">\n",
              "  <thead>\n",
              "    <tr style=\"text-align: right;\">\n",
              "      <th></th>\n",
              "      <th>No</th>\n",
              "      <th>Nama Pelapor</th>\n",
              "      <th>Jenis Pelapor</th>\n",
              "      <th>Lokasi</th>\n",
              "      <th>Deskripsi Laporan</th>\n",
              "      <th>Jenis kekerasan</th>\n",
              "      <th>Penanganan</th>\n",
              "    </tr>\n",
              "  </thead>\n",
              "  <tbody>\n",
              "    <tr>\n",
              "      <th>0</th>\n",
              "      <td>1.0</td>\n",
              "      <td>Tina Isna</td>\n",
              "      <td>Korban</td>\n",
              "      <td>Semarang</td>\n",
              "      <td>Aku anak tunggal. Ibu dan ayah berpisah ketika umur saya 4 tahun. Ibu menikah dengan laki-laki yang perkerjaannya notaris. Aku dipaksa ibu memanggil ayah baru dengan sebutan \"daddy\". Sejak saat itu juga daddy memperlakukanku tidak enak. Aku nggak ingat pas umur berapa, tapi aku udah diperkosa daddy selama bertahun-tahun. Aku juga disiksa sebelum aku diperkosa. Ibu enggak tau kejadian ini karena daddy punya kekuasaan tinggi di rumah. Tolong bantu aku, aku tidak tau harus mengadu kesiapa</td>\n",
              "      <td>Seksual</td>\n",
              "      <td>Korban: Rehabilitas, Kasus: Penegak Hukum</td>\n",
              "    </tr>\n",
              "    <tr>\n",
              "      <th>1</th>\n",
              "      <td>2.0</td>\n",
              "      <td>Dina Setiyawi</td>\n",
              "      <td>Korban</td>\n",
              "      <td>Makassar</td>\n",
              "      <td>Saya sudah tidak tahan lagi. Dosen saya kurang ajar. Awalnya, saya dan 5 teman saya dianggap memiliki penyakit psikis, sehingga saya dan teman2 saya ditawarkan pengobatan dengan metode hipnoterapi atau spiritual oleh dosen saya. Dari awal saya sudah tidak nyaman, tetapi demi kesembuhan psikis saya, saya hanya diam aja. Kami diminta datang ke laboratorium mikrofarmasi, tapi rasanya tindakan dosen saya seperti tidak mengobati tetapi malah seperti mencabuli. Saya dipeluk erat, saya dicium dan saya diminta untuk memegang penisnya. Ini terjadi sudah hampir dua tahun, dan saya tidak tahan lagi.</td>\n",
              "      <td>Seksual</td>\n",
              "      <td>Korban: Rehabilitas, Kasus: Penegak Hukum</td>\n",
              "    </tr>\n",
              "    <tr>\n",
              "      <th>2</th>\n",
              "      <td>3.0</td>\n",
              "      <td>Nur Hayati</td>\n",
              "      <td>Orang tua korban</td>\n",
              "      <td>Bogor</td>\n",
              "      <td>Saya ingin melapor. Anak saya dicabuli oleh ustadz di pondok pesantrennya. Saya menangis ketika anak saya berani menceritakannya kepada saya. Bagaimana saya terima ketika anak saya sedang tidur, pak ustadz meraba-raba tubuh anak saya. Dan kejinya, pas anak saya bangun, pak ustadz malah menggesek-\u0002gesekkan penisnya ke bagian vital anak saya sampai maaf spermanya keluar. Anak saya nggak berani lapor karena diancam tidak akan diluluskan. Dan ternyata ini nggak hanya terjadi kepada anak saya. Saya tidak terima. Saya ingin menuntut keadilan.</td>\n",
              "      <td>Seksual</td>\n",
              "      <td>Korban: Rehabilitas, Kasus: Penegak Hukum</td>\n",
              "    </tr>\n",
              "  </tbody>\n",
              "</table>\n",
              "</div>"
            ],
            "text/plain": [
              "    No  ...                                 Penanganan\n",
              "0  1.0  ...  Korban: Rehabilitas, Kasus: Penegak Hukum\n",
              "1  2.0  ...  Korban: Rehabilitas, Kasus: Penegak Hukum\n",
              "2  3.0  ...  Korban: Rehabilitas, Kasus: Penegak Hukum\n",
              "\n",
              "[3 rows x 7 columns]"
            ]
          },
          "metadata": {
            "tags": []
          },
          "execution_count": 44
        }
      ]
    },
    {
      "cell_type": "markdown",
      "metadata": {
        "id": "4wFifvybWJLJ"
      },
      "source": [
        "## Preprocessing Data"
      ]
    },
    {
      "cell_type": "markdown",
      "metadata": {
        "id": "uofspMAhfd4L"
      },
      "source": [
        "### Cleaning Data"
      ]
    },
    {
      "cell_type": "code",
      "metadata": {
        "colab": {
          "base_uri": "https://localhost:8080/",
          "height": 363
        },
        "id": "cMz3csKYYxa3",
        "outputId": "21c310da-d702-4f31-9e28-a1de36b49b08"
      },
      "source": [
        "data = df[['Deskripsi Laporan', 'Jenis kekerasan']]\n",
        "pd.set_option('display.max_colwidth', -1)\n",
        "data.head(3)"
      ],
      "execution_count": 45,
      "outputs": [
        {
          "output_type": "stream",
          "text": [
            "/usr/local/lib/python3.7/dist-packages/ipykernel_launcher.py:2: FutureWarning: Passing a negative integer is deprecated in version 1.0 and will not be supported in future version. Instead, use None to not limit the column width.\n",
            "  \n"
          ],
          "name": "stderr"
        },
        {
          "output_type": "execute_result",
          "data": {
            "text/html": [
              "<div>\n",
              "<style scoped>\n",
              "    .dataframe tbody tr th:only-of-type {\n",
              "        vertical-align: middle;\n",
              "    }\n",
              "\n",
              "    .dataframe tbody tr th {\n",
              "        vertical-align: top;\n",
              "    }\n",
              "\n",
              "    .dataframe thead th {\n",
              "        text-align: right;\n",
              "    }\n",
              "</style>\n",
              "<table border=\"1\" class=\"dataframe\">\n",
              "  <thead>\n",
              "    <tr style=\"text-align: right;\">\n",
              "      <th></th>\n",
              "      <th>Deskripsi Laporan</th>\n",
              "      <th>Jenis kekerasan</th>\n",
              "    </tr>\n",
              "  </thead>\n",
              "  <tbody>\n",
              "    <tr>\n",
              "      <th>0</th>\n",
              "      <td>Aku anak tunggal. Ibu dan ayah berpisah ketika umur saya 4 tahun. Ibu menikah dengan laki-laki yang perkerjaannya notaris. Aku dipaksa ibu memanggil ayah baru dengan sebutan \"daddy\". Sejak saat itu juga daddy memperlakukanku tidak enak. Aku nggak ingat pas umur berapa, tapi aku udah diperkosa daddy selama bertahun-tahun. Aku juga disiksa sebelum aku diperkosa. Ibu enggak tau kejadian ini karena daddy punya kekuasaan tinggi di rumah. Tolong bantu aku, aku tidak tau harus mengadu kesiapa</td>\n",
              "      <td>Seksual</td>\n",
              "    </tr>\n",
              "    <tr>\n",
              "      <th>1</th>\n",
              "      <td>Saya sudah tidak tahan lagi. Dosen saya kurang ajar. Awalnya, saya dan 5 teman saya dianggap memiliki penyakit psikis, sehingga saya dan teman2 saya ditawarkan pengobatan dengan metode hipnoterapi atau spiritual oleh dosen saya. Dari awal saya sudah tidak nyaman, tetapi demi kesembuhan psikis saya, saya hanya diam aja. Kami diminta datang ke laboratorium mikrofarmasi, tapi rasanya tindakan dosen saya seperti tidak mengobati tetapi malah seperti mencabuli. Saya dipeluk erat, saya dicium dan saya diminta untuk memegang penisnya. Ini terjadi sudah hampir dua tahun, dan saya tidak tahan lagi.</td>\n",
              "      <td>Seksual</td>\n",
              "    </tr>\n",
              "    <tr>\n",
              "      <th>2</th>\n",
              "      <td>Saya ingin melapor. Anak saya dicabuli oleh ustadz di pondok pesantrennya. Saya menangis ketika anak saya berani menceritakannya kepada saya. Bagaimana saya terima ketika anak saya sedang tidur, pak ustadz meraba-raba tubuh anak saya. Dan kejinya, pas anak saya bangun, pak ustadz malah menggesek-\u0002gesekkan penisnya ke bagian vital anak saya sampai maaf spermanya keluar. Anak saya nggak berani lapor karena diancam tidak akan diluluskan. Dan ternyata ini nggak hanya terjadi kepada anak saya. Saya tidak terima. Saya ingin menuntut keadilan.</td>\n",
              "      <td>Seksual</td>\n",
              "    </tr>\n",
              "  </tbody>\n",
              "</table>\n",
              "</div>"
            ],
            "text/plain": [
              "                                                                                                                                                                                                                                                                                                                                                                                                                                                                                                                                                                                                     Deskripsi Laporan Jenis kekerasan\n",
              "0  Aku anak tunggal. Ibu dan ayah berpisah ketika umur saya 4 tahun. Ibu menikah dengan laki-laki yang perkerjaannya notaris. Aku dipaksa ibu memanggil ayah baru dengan sebutan \"daddy\". Sejak saat itu juga daddy memperlakukanku tidak enak. Aku nggak ingat pas umur berapa, tapi aku udah diperkosa daddy selama bertahun-tahun. Aku juga disiksa sebelum aku diperkosa. Ibu enggak tau kejadian ini karena daddy punya kekuasaan tinggi di rumah. Tolong bantu aku, aku tidak tau harus mengadu kesiapa                                                                                                           Seksual       \n",
              "1  Saya sudah tidak tahan lagi. Dosen saya kurang ajar. Awalnya, saya dan 5 teman saya dianggap memiliki penyakit psikis, sehingga saya dan teman2 saya ditawarkan pengobatan dengan metode hipnoterapi atau spiritual oleh dosen saya. Dari awal saya sudah tidak nyaman, tetapi demi kesembuhan psikis saya, saya hanya diam aja. Kami diminta datang ke laboratorium mikrofarmasi, tapi rasanya tindakan dosen saya seperti tidak mengobati tetapi malah seperti mencabuli. Saya dipeluk erat, saya dicium dan saya diminta untuk memegang penisnya. Ini terjadi sudah hampir dua tahun, dan saya tidak tahan lagi.  Seksual       \n",
              "2  Saya ingin melapor. Anak saya dicabuli oleh ustadz di pondok pesantrennya. Saya menangis ketika anak saya berani menceritakannya kepada saya. Bagaimana saya terima ketika anak saya sedang tidur, pak ustadz meraba-raba tubuh anak saya. Dan kejinya, pas anak saya bangun, pak ustadz malah menggesek-\u0002gesekkan penisnya ke bagian vital anak saya sampai maaf spermanya keluar. Anak saya nggak berani lapor karena diancam tidak akan diluluskan. Dan ternyata ini nggak hanya terjadi kepada anak saya. Saya tidak terima. Saya ingin menuntut keadilan.                                                       Seksual       "
            ]
          },
          "metadata": {
            "tags": []
          },
          "execution_count": 45
        }
      ]
    },
    {
      "cell_type": "code",
      "metadata": {
        "colab": {
          "base_uri": "https://localhost:8080/"
        },
        "id": "TSInRIVCWJWx",
        "outputId": "1613bd2e-7dc4-469c-de20-4805c7f8ec83"
      },
      "source": [
        "def clean_text(text):\n",
        "  #mengubah semua karakter huruf menjadi huruf kecil\n",
        "  text = text.lower()\n",
        "  #menghilangkan nama akun\n",
        "  text = re.sub('@[^\\s]+', '', text)\n",
        "  #menghilangkan punctuation\n",
        "  text = re.sub('[%s]' % re.escape(string.punctuation), '', text)\n",
        "  #menghilangkan angka\n",
        "  text = re.sub('\\w*\\d\\w*', '', text)\n",
        "  #menghilangkan URL\n",
        "  text = re.sub(r'\\w+:\\/{2}[\\d\\w-]+(\\.[\\d\\w-]+)*(?:(?:\\/[^\\s/]*))*', '', text)\n",
        "  text = re.sub(r'(https?:\\/\\/)?([\\da-z\\.-]+)\\.([a-z\\.]{2,6})([\\/\\w\\.-]*)*\\/?\\S','', text)\n",
        "  #menghilangkan hashtag\n",
        "  text = re.sub('#[^\\s]+', '', text)\n",
        "  #menghilangkan huruf tunggal\n",
        "  text = re.sub(r'\\b[a-zA-Z]\\b', '', text)\n",
        "  return text\n",
        "\n",
        "clean = lambda x: clean_text(x)\n",
        "\n",
        "data['Deskripsi Laporan'] = data['Deskripsi Laporan'].apply(clean)"
      ],
      "execution_count": 7,
      "outputs": [
        {
          "output_type": "stream",
          "text": [
            "/usr/local/lib/python3.7/dist-packages/ipykernel_launcher.py:21: SettingWithCopyWarning: \n",
            "A value is trying to be set on a copy of a slice from a DataFrame.\n",
            "Try using .loc[row_indexer,col_indexer] = value instead\n",
            "\n",
            "See the caveats in the documentation: https://pandas.pydata.org/pandas-docs/stable/user_guide/indexing.html#returning-a-view-versus-a-copy\n"
          ],
          "name": "stderr"
        }
      ]
    },
    {
      "cell_type": "code",
      "metadata": {
        "id": "dMebKocBWPyA"
      },
      "source": [
        "def get_stopword(stopwordfile):\n",
        "  stopwords = []\n",
        "  file_stopwords = open(stopwordfile, 'r')\n",
        "  row = file_stopwords.readline()\n",
        "  while row:\n",
        "    word = row.strip()\n",
        "    stopwords.append(word)\n",
        "    row = file_stopwords.readline()\n",
        "  file_stopwords.close()\n",
        "  return stopwords\n",
        "\n",
        "\n",
        "stop_words_indo = get_stopword('/content/drive/MyDrive/Capstone B21-CAP0220/Progress ML/stopwordsindo.txt')"
      ],
      "execution_count": 15,
      "outputs": []
    },
    {
      "cell_type": "code",
      "metadata": {
        "id": "r0pkCYC5ZFn7"
      },
      "source": [
        "def stopwords(text):\n",
        "  tokens = word_tokenize(text)\n",
        "  filtered = []\n",
        "\n",
        "  for w in tokens:\n",
        "    if w not in stop_words_indo:\n",
        "      filtered.append(w)\n",
        "  \n",
        "  hasil = ' '.join(filtered)\n",
        "  return hasil\n",
        "\n",
        "st = lambda x: stopwords(x)"
      ],
      "execution_count": 16,
      "outputs": []
    },
    {
      "cell_type": "code",
      "metadata": {
        "colab": {
          "base_uri": "https://localhost:8080/",
          "height": 343
        },
        "id": "_F7VDbJzZ0c1",
        "outputId": "e574f2af-f14c-4d9e-b3ed-04cc52f391ff"
      },
      "source": [
        "data['Deskripsi Laporan'] = pd.DataFrame(data['Deskripsi Laporan'].apply(st))\n",
        "data.head(3)"
      ],
      "execution_count": 19,
      "outputs": [
        {
          "output_type": "stream",
          "text": [
            "/usr/local/lib/python3.7/dist-packages/ipykernel_launcher.py:1: SettingWithCopyWarning: \n",
            "A value is trying to be set on a copy of a slice from a DataFrame.\n",
            "Try using .loc[row_indexer,col_indexer] = value instead\n",
            "\n",
            "See the caveats in the documentation: https://pandas.pydata.org/pandas-docs/stable/user_guide/indexing.html#returning-a-view-versus-a-copy\n",
            "  \"\"\"Entry point for launching an IPython kernel.\n"
          ],
          "name": "stderr"
        },
        {
          "output_type": "execute_result",
          "data": {
            "text/html": [
              "<div>\n",
              "<style scoped>\n",
              "    .dataframe tbody tr th:only-of-type {\n",
              "        vertical-align: middle;\n",
              "    }\n",
              "\n",
              "    .dataframe tbody tr th {\n",
              "        vertical-align: top;\n",
              "    }\n",
              "\n",
              "    .dataframe thead th {\n",
              "        text-align: right;\n",
              "    }\n",
              "</style>\n",
              "<table border=\"1\" class=\"dataframe\">\n",
              "  <thead>\n",
              "    <tr style=\"text-align: right;\">\n",
              "      <th></th>\n",
              "      <th>Deskripsi Laporan</th>\n",
              "      <th>Jenis kekerasan</th>\n",
              "    </tr>\n",
              "  </thead>\n",
              "  <tbody>\n",
              "    <tr>\n",
              "      <th>0</th>\n",
              "      <td>anak tunggal ibu ayah berpisah umur ibu menikah lakilaki perkerjaannya notaris dipaksa ibu memanggil ayah sebutan daddy daddy memperlakukanku tidak enak nggak pas umur udah diperkosa daddy bertahuntahun disiksa diperkosa ibu enggak tau kejadian daddy kekuasaan rumah tolong bantu tidak tau mengadu kesiapa</td>\n",
              "      <td>Seksual</td>\n",
              "    </tr>\n",
              "    <tr>\n",
              "      <th>1</th>\n",
              "      <td>tidak tahan dosen ajar teman dianggap memiliki penyakit psikis ditawarkan pengobatan metode hipnoterapi spiritual dosen tidak nyaman kesembuhan psikis diam aja laboratorium mikrofarmasi tindakan dosen tidak mengobati mencabuli dipeluk erat dicium memegang penisnya tidak tahan</td>\n",
              "      <td>Seksual</td>\n",
              "    </tr>\n",
              "    <tr>\n",
              "      <th>2</th>\n",
              "      <td>melapor anak dicabuli ustadz pondok pesantrennya menangis anak berani menceritakannya terima anak tidur ustadz merabaraba tubuh anak kejinya pas anak bangun ustadz menggesek\u0002gesekkan penisnya vital anak maaf spermanya anak nggak berani lapor diancam tidak diluluskan nggak anak tidak terima menuntut keadilan</td>\n",
              "      <td>Seksual</td>\n",
              "    </tr>\n",
              "  </tbody>\n",
              "</table>\n",
              "</div>"
            ],
            "text/plain": [
              "                                                                                                                                                                                                                                                                                                      Deskripsi Laporan Jenis kekerasan\n",
              "0  anak tunggal ibu ayah berpisah umur ibu menikah lakilaki perkerjaannya notaris dipaksa ibu memanggil ayah sebutan daddy daddy memperlakukanku tidak enak nggak pas umur udah diperkosa daddy bertahuntahun disiksa diperkosa ibu enggak tau kejadian daddy kekuasaan rumah tolong bantu tidak tau mengadu kesiapa     Seksual       \n",
              "1  tidak tahan dosen ajar teman dianggap memiliki penyakit psikis ditawarkan pengobatan metode hipnoterapi spiritual dosen tidak nyaman kesembuhan psikis diam aja laboratorium mikrofarmasi tindakan dosen tidak mengobati mencabuli dipeluk erat dicium memegang penisnya tidak tahan                                  Seksual       \n",
              "2  melapor anak dicabuli ustadz pondok pesantrennya menangis anak berani menceritakannya terima anak tidur ustadz merabaraba tubuh anak kejinya pas anak bangun ustadz menggesek\u0002gesekkan penisnya vital anak maaf spermanya anak nggak berani lapor diancam tidak diluluskan nggak anak tidak terima menuntut keadilan  Seksual       "
            ]
          },
          "metadata": {
            "tags": []
          },
          "execution_count": 19
        }
      ]
    },
    {
      "cell_type": "markdown",
      "metadata": {
        "id": "-iHL_DM9Z7Pi"
      },
      "source": [
        "### Change Label"
      ]
    },
    {
      "cell_type": "code",
      "metadata": {
        "colab": {
          "base_uri": "https://localhost:8080/",
          "height": 97
        },
        "id": "nzQPnD1-Z9JD",
        "outputId": "dc1b0209-0654-47cb-c50b-ed1f1655a2af"
      },
      "source": [
        "df = data[['Deskripsi Laporan', 'Jenis kekerasan']]\n",
        "df = df.rename(columns ={'Deskripsi Laporan': 'sentence', 'Jenis kekerasan': 'label'}, inplace=False)\n",
        "df.head(1)"
      ],
      "execution_count": 20,
      "outputs": [
        {
          "output_type": "execute_result",
          "data": {
            "text/html": [
              "<div>\n",
              "<style scoped>\n",
              "    .dataframe tbody tr th:only-of-type {\n",
              "        vertical-align: middle;\n",
              "    }\n",
              "\n",
              "    .dataframe tbody tr th {\n",
              "        vertical-align: top;\n",
              "    }\n",
              "\n",
              "    .dataframe thead th {\n",
              "        text-align: right;\n",
              "    }\n",
              "</style>\n",
              "<table border=\"1\" class=\"dataframe\">\n",
              "  <thead>\n",
              "    <tr style=\"text-align: right;\">\n",
              "      <th></th>\n",
              "      <th>sentence</th>\n",
              "      <th>label</th>\n",
              "    </tr>\n",
              "  </thead>\n",
              "  <tbody>\n",
              "    <tr>\n",
              "      <th>0</th>\n",
              "      <td>anak tunggal ibu ayah berpisah umur ibu menikah lakilaki perkerjaannya notaris dipaksa ibu memanggil ayah sebutan daddy daddy memperlakukanku tidak enak nggak pas umur udah diperkosa daddy bertahuntahun disiksa diperkosa ibu enggak tau kejadian daddy kekuasaan rumah tolong bantu tidak tau mengadu kesiapa</td>\n",
              "      <td>Seksual</td>\n",
              "    </tr>\n",
              "  </tbody>\n",
              "</table>\n",
              "</div>"
            ],
            "text/plain": [
              "                                                                                                                                                                                                                                                                                                            sentence    label\n",
              "0  anak tunggal ibu ayah berpisah umur ibu menikah lakilaki perkerjaannya notaris dipaksa ibu memanggil ayah sebutan daddy daddy memperlakukanku tidak enak nggak pas umur udah diperkosa daddy bertahuntahun disiksa diperkosa ibu enggak tau kejadian daddy kekuasaan rumah tolong bantu tidak tau mengadu kesiapa  Seksual"
            ]
          },
          "metadata": {
            "tags": []
          },
          "execution_count": 20
        }
      ]
    },
    {
      "cell_type": "code",
      "metadata": {
        "colab": {
          "base_uri": "https://localhost:8080/",
          "height": 203
        },
        "id": "4HSrceWaaBov",
        "outputId": "0a378b53-1cc4-4290-dd70-bf4bf8dc540d"
      },
      "source": [
        "class_names = ['Seksual', 'Trafiking', 'Migran', 'Fisik', 'Psikis', 'Ekonomi']\n",
        "\n",
        "def change_value(input_value):\n",
        "  '''Change label from categorical to numeric'''\n",
        "  for index, label in enumerate(class_names):\n",
        "    if input_value == label:\n",
        "      return index \n",
        "  return -1\n",
        "\n",
        "df['label'] = data['Jenis kekerasan'].apply(change_value)\n",
        "df.tail()"
      ],
      "execution_count": 21,
      "outputs": [
        {
          "output_type": "execute_result",
          "data": {
            "text/html": [
              "<div>\n",
              "<style scoped>\n",
              "    .dataframe tbody tr th:only-of-type {\n",
              "        vertical-align: middle;\n",
              "    }\n",
              "\n",
              "    .dataframe tbody tr th {\n",
              "        vertical-align: top;\n",
              "    }\n",
              "\n",
              "    .dataframe thead th {\n",
              "        text-align: right;\n",
              "    }\n",
              "</style>\n",
              "<table border=\"1\" class=\"dataframe\">\n",
              "  <thead>\n",
              "    <tr style=\"text-align: right;\">\n",
              "      <th></th>\n",
              "      <th>sentence</th>\n",
              "      <th>label</th>\n",
              "    </tr>\n",
              "  </thead>\n",
              "  <tbody>\n",
              "    <tr>\n",
              "      <th>185</th>\n",
              "      <td>diporoti pacar</td>\n",
              "      <td>5</td>\n",
              "    </tr>\n",
              "    <tr>\n",
              "      <th>186</th>\n",
              "      <td>uang habis pacar membeli kebutuhannya</td>\n",
              "      <td>5</td>\n",
              "    </tr>\n",
              "    <tr>\n",
              "      <th>187</th>\n",
              "      <td>pacar nama berhutang judi dikejar kejar tagihan</td>\n",
              "      <td>5</td>\n",
              "    </tr>\n",
              "    <tr>\n",
              "      <th>188</th>\n",
              "      <td>ibu dikejar rentenir akibat ulang ayah meminjam uang judi</td>\n",
              "      <td>5</td>\n",
              "    </tr>\n",
              "    <tr>\n",
              "      <th>189</th>\n",
              "      <td>dipaksa memenuhi kehidupan ekonomi pacar</td>\n",
              "      <td>5</td>\n",
              "    </tr>\n",
              "  </tbody>\n",
              "</table>\n",
              "</div>"
            ],
            "text/plain": [
              "                                                      sentence  label\n",
              "185  diporoti pacar                                             5    \n",
              "186  uang habis pacar membeli kebutuhannya                      5    \n",
              "187  pacar nama berhutang judi dikejar kejar tagihan            5    \n",
              "188  ibu dikejar rentenir akibat ulang ayah meminjam uang judi  5    \n",
              "189  dipaksa memenuhi kehidupan ekonomi pacar                   5    "
            ]
          },
          "metadata": {
            "tags": []
          },
          "execution_count": 21
        }
      ]
    },
    {
      "cell_type": "code",
      "metadata": {
        "colab": {
          "base_uri": "https://localhost:8080/"
        },
        "id": "q-9pnMiqaS_w",
        "outputId": "f72db2b1-ae2a-417e-b4f7-520e17b169b6"
      },
      "source": [
        "# class_names = ['Seksual', 'Trafiking', 'Migran', 'Fisik', 'Psikis', 'Ekonomi']\n",
        "\n",
        "df_seksual = df[df['label'] == 0]\n",
        "df_trafiking = df[df['label'] == 1]\n",
        "df_migran = df[df['label'] == 2]\n",
        "df_fisik = df[df['label'] == 3]\n",
        "df_psikis = df[df['label'] == 4]\n",
        "df_ekonomi = df[df['label'] == 5]\n",
        "\n",
        "df_train_seksual = df_seksual.sample(30)\n",
        "df_train_trafiking = df_trafiking.sample(30)\n",
        "df_train_migran = df_migran.sample(23)\n",
        "df_train_fisik = df_fisik.sample(30)\n",
        "df_train_psikis = df_psikis.sample(30)\n",
        "df_train_ekonomi = df_ekonomi.sample(30)\n",
        "\n",
        "df_seksual_remaining = df_seksual.drop(df_train_seksual.index)\n",
        "df_trafiking_remaining = df_trafiking.drop(df_train_trafiking.index)\n",
        "df_migran_remaining = df_migran.drop(df_train_migran.index)\n",
        "df_fisik_remaining = df_fisik.drop(df_train_fisik.index)\n",
        "df_psikis_remaining = df_psikis.drop(df_train_psikis.index)\n",
        "df_ekonomi_remaining = df_ekonomi.drop(df_train_ekonomi.index)\n",
        "\n",
        "df_validate_seksual = df_seksual_remaining.sample(3)\n",
        "df_validate_trafiking = df_trafiking_remaining.sample(3)\n",
        "df_validate_migran = df_migran_remaining.sample(2)\n",
        "df_validate_fisik = df_fisik_remaining.sample(3)\n",
        "df_validate_psikis = df_psikis_remaining.sample(3)\n",
        "df_validate_ekonomi = df_ekonomi_remaining.sample(3)\n",
        "\n",
        "# df_test_seksual = df_seksual_remaining.drop(df_validate_seksual.index)\n",
        "# df_test_trafiking = df_trafiking_remaining.drop(df_validate_trafiking.index)\n",
        "# df_test_migran = df_migran_remaining.drop(df_validate_migran.index)\n",
        "# df_test_fisik = df_fisik_remaining.drop(df_validate_fisik.index)\n",
        "# df_test_psikis = df_psikis_remaining.drop(df_validate_psikis.index)\n",
        "# df_test_ekonomi = df_ekonomi_remaining.drop(df_validate_ekonomi.index)\n",
        "\n",
        "\n",
        "train_df = pd.concat([df_train_seksual, df_train_trafiking, df_train_migran, df_train_fisik, df_train_psikis, df_train_ekonomi]).sample(frac=1)\n",
        "validate_df = pd.concat([df_validate_seksual, df_validate_trafiking, df_validate_migran, df_validate_fisik, df_validate_psikis, df_validate_ekonomi]).sample(frac=1)\n",
        "test_df = validate_df\n",
        "\n",
        "print(\"Untuk data train, validate dan test sudah seimbang\")\n",
        "print(\"Jumlah data train : {}\".format(len(train_df)))\n",
        "print(\"Jumlah data validate : {}\".format(len(validate_df)))\n",
        "print(\"Jumlah data tes : {}\".format(len(test_df)))"
      ],
      "execution_count": 22,
      "outputs": [
        {
          "output_type": "stream",
          "text": [
            "Untuk data train, validate dan test sudah seimbang\n",
            "Jumlah data train : 173\n",
            "Jumlah data validate : 17\n",
            "Jumlah data tes : 17\n"
          ],
          "name": "stdout"
        }
      ]
    },
    {
      "cell_type": "code",
      "metadata": {
        "colab": {
          "base_uri": "https://localhost:8080/"
        },
        "id": "Ko8DJ-R9aYZp",
        "outputId": "59488331-39f9-4461-b0e8-16cd3db1286e"
      },
      "source": [
        "train_sentences = train_df['sentence'].values\n",
        "validation_sentences = validate_df['sentence'].values\n",
        "train_labels = train_df['label'].values\n",
        "validation_labels = validate_df['label'].values\n",
        "\n",
        "jumlah1 = len(train_sentences)\n",
        "jumlah2 = len(train_labels)\n",
        "jumlah3 = len(validation_sentences)\n",
        "jumlah4 = len(validation_labels)\n",
        "\n",
        "print(\"Train Sentences : {}\\nTrain Labels: {}\\nValidation Sentences : {}\\nValidation Labels : {}\".format(jumlah1,jumlah2,jumlah3,jumlah4))"
      ],
      "execution_count": 23,
      "outputs": [
        {
          "output_type": "stream",
          "text": [
            "Train Sentences : 173\n",
            "Train Labels: 173\n",
            "Validation Sentences : 17\n",
            "Validation Labels : 17\n"
          ],
          "name": "stdout"
        }
      ]
    },
    {
      "cell_type": "code",
      "metadata": {
        "colab": {
          "base_uri": "https://localhost:8080/"
        },
        "id": "EufTDpQsajHa",
        "outputId": "8710d098-4f8c-4b9d-8c44-46be5344c356"
      },
      "source": [
        "train_sentences[:3]"
      ],
      "execution_count": 24,
      "outputs": [
        {
          "output_type": "execute_result",
          "data": {
            "text/plain": [
              "array(['memiliki adik perempuan dimana adiksaya memiliki pacar adiksaya diajak jalan jalan pacarnya dikeluarga kegitan tidak ditinggalkan adik bilang adiksaya tidak pacarnya ngotot pacarnya pulang kerumah adiksaya kasar tampar mengalami lukak memar',\n",
              "       'uang habis pacar membeli kebutuhannya', 'dipaksa orang tua tidak'],\n",
              "      dtype=object)"
            ]
          },
          "metadata": {
            "tags": []
          },
          "execution_count": 24
        }
      ]
    },
    {
      "cell_type": "code",
      "metadata": {
        "colab": {
          "base_uri": "https://localhost:8080/"
        },
        "id": "PqdMCvp6anP_",
        "outputId": "d2b5b0aa-2312-47b1-e166-1578768b1678"
      },
      "source": [
        "train_labels[:3]"
      ],
      "execution_count": 25,
      "outputs": [
        {
          "output_type": "execute_result",
          "data": {
            "text/plain": [
              "array([3, 5, 4])"
            ]
          },
          "metadata": {
            "tags": []
          },
          "execution_count": 25
        }
      ]
    },
    {
      "cell_type": "markdown",
      "metadata": {
        "id": "e4KD_O4_arG6"
      },
      "source": [
        "### Tokenization"
      ]
    },
    {
      "cell_type": "code",
      "metadata": {
        "id": "TQQSgvL6asw8"
      },
      "source": [
        "vocab_size = 1000\n",
        "embedding_dim = 16\n",
        "max_length = 120\n",
        "trunc_type='post'\n",
        "padding_type='post'\n",
        "oov_tok = \"<OOV>\""
      ],
      "execution_count": 26,
      "outputs": []
    },
    {
      "cell_type": "code",
      "metadata": {
        "colab": {
          "base_uri": "https://localhost:8080/",
          "height": 178
        },
        "id": "7xEobBqpau_h",
        "outputId": "d12def98-8f02-44e4-99a8-3245a4827977"
      },
      "source": [
        "data.head(2)"
      ],
      "execution_count": 27,
      "outputs": [
        {
          "output_type": "execute_result",
          "data": {
            "text/html": [
              "<div>\n",
              "<style scoped>\n",
              "    .dataframe tbody tr th:only-of-type {\n",
              "        vertical-align: middle;\n",
              "    }\n",
              "\n",
              "    .dataframe tbody tr th {\n",
              "        vertical-align: top;\n",
              "    }\n",
              "\n",
              "    .dataframe thead th {\n",
              "        text-align: right;\n",
              "    }\n",
              "</style>\n",
              "<table border=\"1\" class=\"dataframe\">\n",
              "  <thead>\n",
              "    <tr style=\"text-align: right;\">\n",
              "      <th></th>\n",
              "      <th>Deskripsi Laporan</th>\n",
              "      <th>Jenis kekerasan</th>\n",
              "    </tr>\n",
              "  </thead>\n",
              "  <tbody>\n",
              "    <tr>\n",
              "      <th>0</th>\n",
              "      <td>anak tunggal ibu ayah berpisah umur ibu menikah lakilaki perkerjaannya notaris dipaksa ibu memanggil ayah sebutan daddy daddy memperlakukanku tidak enak nggak pas umur udah diperkosa daddy bertahuntahun disiksa diperkosa ibu enggak tau kejadian daddy kekuasaan rumah tolong bantu tidak tau mengadu kesiapa</td>\n",
              "      <td>Seksual</td>\n",
              "    </tr>\n",
              "    <tr>\n",
              "      <th>1</th>\n",
              "      <td>tidak tahan dosen ajar teman dianggap memiliki penyakit psikis ditawarkan pengobatan metode hipnoterapi spiritual dosen tidak nyaman kesembuhan psikis diam aja laboratorium mikrofarmasi tindakan dosen tidak mengobati mencabuli dipeluk erat dicium memegang penisnya tidak tahan</td>\n",
              "      <td>Seksual</td>\n",
              "    </tr>\n",
              "  </tbody>\n",
              "</table>\n",
              "</div>"
            ],
            "text/plain": [
              "                                                                                                                                                                                                                                                                                                   Deskripsi Laporan Jenis kekerasan\n",
              "0  anak tunggal ibu ayah berpisah umur ibu menikah lakilaki perkerjaannya notaris dipaksa ibu memanggil ayah sebutan daddy daddy memperlakukanku tidak enak nggak pas umur udah diperkosa daddy bertahuntahun disiksa diperkosa ibu enggak tau kejadian daddy kekuasaan rumah tolong bantu tidak tau mengadu kesiapa  Seksual       \n",
              "1  tidak tahan dosen ajar teman dianggap memiliki penyakit psikis ditawarkan pengobatan metode hipnoterapi spiritual dosen tidak nyaman kesembuhan psikis diam aja laboratorium mikrofarmasi tindakan dosen tidak mengobati mencabuli dipeluk erat dicium memegang penisnya tidak tahan                               Seksual       "
            ]
          },
          "metadata": {
            "tags": []
          },
          "execution_count": 27
        }
      ]
    },
    {
      "cell_type": "code",
      "metadata": {
        "id": "hVeaS6DLawk7"
      },
      "source": [
        "labels = data['Jenis kekerasan'].values\n",
        "labels\n",
        "\n",
        "\n",
        "# Ubah train label \n",
        "train_labels_str = [class_names[label] for label in train_labels]\n",
        "validation_labels_str = [class_names[label] for label in validation_labels]"
      ],
      "execution_count": 29,
      "outputs": []
    },
    {
      "cell_type": "code",
      "metadata": {
        "colab": {
          "base_uri": "https://localhost:8080/"
        },
        "id": "J9B78ixBa9nt",
        "outputId": "def164d6-78f7-4474-c597-1862c146921b"
      },
      "source": [
        "# from tensorflow.keras.preprocessing.text import Tokenizer\n",
        "# from tensorflow.keras.preprocessing.sequence import pad_sequences\n",
        "\n",
        "# Tokenizer For Sentences\n",
        "tokenizer = Tokenizer(num_words = vocab_size, oov_token=oov_tok)\n",
        "tokenizer.fit_on_texts(train_sentences)\n",
        "\n",
        "\n",
        "\n",
        "word_index = tokenizer.word_index\n",
        "\n",
        "train_sequences = tokenizer.texts_to_sequences(train_sentences)\n",
        "train_padded = pad_sequences(train_sequences, padding=padding_type, maxlen=max_length)\n",
        "\n",
        "validation_sequences = tokenizer.texts_to_sequences(validation_sentences)\n",
        "validation_padded = pad_sequences(validation_sequences, padding=padding_type, maxlen=max_length)\n",
        "\n",
        "print(\"Total word : {}\".format(len(word_index)))\n",
        "\n",
        "print('\\nDictionary list :')\n",
        "print(word_index)\n",
        "\n",
        "print('\\nSequences data pertama')\n",
        "print(train_sequences[0])\n",
        "print('\\nPadding data pertama')\n",
        "print(train_padded[0])\n",
        "print(\"\\nTottal padding : {}\".format(len(train_padded[0])))\n",
        "\n",
        "# Tokenizer For Label\n",
        "label_tokenizer = Tokenizer()\n",
        "label_tokenizer.fit_on_texts(labels)\n",
        "\n",
        "\n",
        "\n",
        "training_label_seq = np.array(label_tokenizer.texts_to_sequences(train_labels_str))\n",
        "validation_label_seq = np.array(label_tokenizer.texts_to_sequences(validation_labels_str))\n",
        "\n",
        "validation_sequences = tokenizer.texts_to_sequences(validation_sentences)\n",
        "validation_padded = pad_sequences(validation_sequences, padding=padding_type, maxlen=max_length)"
      ],
      "execution_count": 30,
      "outputs": [
        {
          "output_type": "stream",
          "text": [
            "Total word : 1226\n",
            "\n",
            "Dictionary list :\n",
            "{'<OOV>': 1, 'tidak': 2, 'anak': 3, 'teman': 4, 'ibu': 5, 'orang': 6, 'ayah': 7, 'rumah': 8, 'pacar': 9, 'pulang': 10, 'uang': 11, 'memiliki': 12, 'tau': 13, 'tolong': 14, 'suami': 15, 'temanku': 16, 'dipaksa': 17, 'pacarnya': 18, 'pekerjaan': 19, 'ku': 20, 'sekolah': 21, 'perempuan': 22, 'dimana': 23, 'pekerja': 24, 'malam': 25, 'nggak': 26, 'bantu': 27, 'mencoba': 28, 'takut': 29, 'majikan': 30, 'tua': 31, 'kejadian': 32, 'hutang': 33, 'keluarga': 34, 'tetangga': 35, 'paman': 36, 'bilang': 37, 'marah': 38, 'kemarin': 39, 'tertekan': 40, 'migran': 41, 'luka': 42, 'negeri': 43, 'disiksa': 44, 'disana': 45, 'bercerita': 46, 'hubungan': 47, 'mengikuti': 48, 'lakilaki': 49, 'memukul': 50, 'dosen': 51, 'kali': 52, 'seksual': 53, 'tangan': 54, 'kerja': 55, 'dijual': 56, 'udah': 57, 'kekerasan': 58, 'mendengar': 59, 'melapor': 60, 'menangis': 61, 'minggu': 62, 'langsung': 63, 'intim': 64, 'barang': 65, 'mencari': 66, 'memaksa': 67, 'mengancam': 68, 'tugas': 69, 'istri': 70, 'meminjam': 71, 'berteman': 72, 'majikannya': 73, 'gagal': 74, 'kelas': 75, 'sebutan': 76, 'om': 77, 'tinggal': 78, 'kasar': 79, 'tubuh': 80, 'indonesia': 81, 'perjalanan': 82, 'berhubungan': 83, 'kartu': 84, 'jam': 85, 'tangga': 86, 'sesuai': 87, 'aneh': 88, 'salah': 89, 'guru': 90, 'berumur': 91, 'bertemu': 92, 'dipukul': 93, 'putus': 94, 'gaji': 95, 'kondisi': 96, 'membayar': 97, 'diancam': 98, 'belajar': 99, 'memenuhi': 100, 'tahan': 101, 'dirumah': 102, 'mengalami': 103, 'menendang': 104, 'temannya': 105, 'kredit': 106, 'pendapatan': 107, 'melaporkan': 108, 'yatim': 109, 'mengambil': 110, 'menghubungi': 111, 'menerima': 112, 'akibat': 113, 'perempuanku': 114, 'tindakan': 115, 'korban': 116, 'alasan': 117, 'menampar': 118, 'ditampar': 119, 'umur': 120, 'dipekerjakan': 121, 'berani': 122, 'meninggal': 123, 'hak': 124, 'kehidupan': 125, 'kabur': 126, 'suka': 127, 'kakek': 128, 'adiksaya': 129, 'jalan': 130, 'memar': 131, 'memukuli': 132, 'palsu': 133, 'cerita': 134, 'digaji': 135, 'membantu': 136, 'pergi': 137, 'sakit': 138, 'muda': 139, 'keuangan': 140, 'psk': 141, 'nyaman': 142, 'bunuh': 143, 'mohon': 144, 'tawaran': 145, 'pernikahan': 146, 'larut': 147, 'kuat': 148, 'lalai': 149, 'bank': 150, 'meraba': 151, 'judi': 152, 'pacarku': 153, 'nilai': 154, 'orangtua': 155, 'memaksaku': 156, 'dibayar': 157, 'bangun': 158, 'bos': 159, 'dipukuli': 160, 'kabar': 161, 'hp': 162, 'daddy': 163, 'adik': 164, 'diajak': 165, 'membeli': 166, 'lebam': 167, 'berat': 168, 'melarikan': 169, 'kaki': 170, 'ditendang': 171, 'tiri': 172, 'menantu': 173, 'proyek': 174, 'perusahaan': 175, 'penuh': 176, 'berbicara': 177, 'kesalahan': 178, 'nenek': 179, 'memarahi': 180, 'memukulnya': 181, 'sukses': 182, 'luarnegeri': 183, 'berhasil': 184, 'fisik': 185, 'tamparan': 186, 'pukulan': 187, 'temen': 188, 'dimarahi': 189, 'endorse': 190, 'nya': 191, 'seminggu': 192, 'menikah': 193, 'kebutuhan': 194, 'pernikahannya': 195, 'biaya': 196, 'perbuatan': 197, 'hukum': 198, 'dibagian': 199, 'satunya': 200, 'kuliah': 201, 'sehari': 202, 'tertidur': 203, 'foto': 204, 'baju': 205, 'pegawai': 206, 'ancaman': 207, 'jarang': 208, 'membawa': 209, 'online': 210, 'menurun': 211, 'nama': 212, 'peminjaman': 213, 'membantuku': 214, 'penisnya': 215, 'perlakuan': 216, 'pelecehan': 217, 'menolaknya': 218, 'juara': 219, 'imigran': 220, 'meninggalkan': 221, 'membentak': 222, 'buruk': 223, 'tidur': 224, 'terima': 225, 'berbuat': 226, 'diam': 227, 'paksa': 228, 'mengadu': 229, 'siang': 230, 'tibatiba': 231, 'gelap': 232, 'mata': 233, 'kepala': 234, 'makan': 235, 'menjual': 236, 'hidup': 237, 'memanggil': 238, 'anaknya': 239, 'keras': 240, 'dituntut': 241, 'terpaksa': 242, 'memegang': 243, 'sengaja': 244, 'malaysia': 245, 'jenazah': 246, 'bercerai': 247, 'dibunuh': 248, 'tagihan': 249, 'disita': 250, 'dianggap': 251, 'terlambat': 252, 'kosan': 253, 'lelah': 254, 'kantor': 255, 'petugas': 256, 'kebersihan': 257, 'toilet': 258, 'ustadz': 259, 'pas': 260, 'diperkosa': 261, 'mengembalikan': 262, 'mutiara': 263, 'ambon': 264, 'kerumah': 265, 'habis': 266, 'tindak': 267, 'mabuk': 268, 'berjalan': 269, 'pembuatan': 270, 'identitas': 271, 'daerah': 272, 'batas': 273, 'beristirahat': 274, 'istirahat': 275, 'padasaat': 276, 'pemuda': 277, 'neneknenek': 278, 'mengajak': 279, 'badan': 280, 'milik': 281, 'puncaknya': 282, 'handphone': 283, 'senang': 284, 'hati': 285, 'pacaran': 286, 'mobil': 287, 'selingkuh': 288, 'mengaku': 289, 'teror': 290, 'sepele': 291, 'maki': 292, 'depresi': 293, 'piatu': 294, 'iya': 295, 'kota': 296, 'sisanya': 297, 'proses': 298, 'masingmasing': 299, 'sedih': 300, 'mengeluarkan': 301, 'difitnah': 302, 'berdebat': 303, 'kelompok': 304, 'harinya': 305, 'kelompokku': 306, 'menyebarkan': 307, 'kejelasan': 308, 'apapun': 309, 'bermain': 310, 'disentuh': 311, 'beliau': 312, 'mati': 313, 'menyangka': 314, 'spa': 315, 'menyiksa': 316, 'seizin': 317, 'informasi': 318, 'layak': 319, 'malu': 320, 'cuti': 321, 'perusahan': 322, 'project': 323, 'sopir': 324, 'berangkat': 325, 'menghidupi': 326, 'pandemi': 327, 'sepengetahuan': 328, 'berpacaran': 329, 'mudah': 330, 'uangnya': 331, 'menggantinya': 332, 'memutuskan': 333, 'memperkosa': 334, 'makanan': 335, 'iming': 336, 'akantetapi': 337, 'keluarganya': 338, 'membuka': 339, 'penyiksaan': 340, 'hubungi': 341, 'buruh': 342, 'perlindungan': 343, 'mencium': 344, 'kemampuan': 345, 'tekanan': 346, 'dikejar': 347, 'rentenir': 348, 'tkw': 349, 'tas': 350, 'hadiah': 351, 'tergolong': 352, 'bulannya': 353, 'lakukan': 354, 'dipanggil': 355, 'lowongan': 356, 'jelek': 357, 'maaf': 358, 'jual': 359, 'ayahku': 360, 'kemana': 361, 'pria': 362, 'terbangun': 363, 'pagi': 364, 'merasakan': 365, 'gambar': 366, 'rekan': 367, 'mengenal': 368, 'menolak': 369, 'kemauannya': 370, 'mengamen': 371, 'kontrak': 372, 'hidung': 373, 'belang': 374, 'smp': 375, 'bersekolah': 376, 'sesenggukan': 377, 'coba': 378, 'gimana': 379, 'menuruti': 380, 'tunggal': 381, 'sma': 382, 'menuntut': 383, 'sebulan': 384, 'melayani': 385, 'dibawa': 386, 'tertarik': 387, 'ditipu': 388, 'calo': 389, 'pembantu': 390, 'mengerjakannya': 391, 'berkenan': 392, 'wisata': 393, 'ditawarkan': 394, 'ajar': 395, 'kamar': 396, 'diperjual': 397, 'belikan': 398, 'kaya': 399, 'kaget': 400, 'sadar': 401, 'ketiga': 402, 'disuruh': 403, 'resah': 404, 'ntt': 405, 'berulang': 406, 'data': 407, 'berdokumen': 408, 'saudara': 409, 'sore': 410, 'segan': 411, 'berjudi': 412, 'bertengkar': 413, 'melanjutkan': 414, 'mabukmabukan': 415, 'ambil': 416, 'pake': 417, 'psikis': 418, 'mencabuli': 419, 'dirumahnya': 420, 'melepasnya': 421, 'butuh': 422, 'psikiater': 423, 'memanggilku': 424, 'kopi': 425, 'untuknya': 426, 'kakak': 427, 'tingkat': 428, 'miskin': 429, 'asuh': 430, 'suamiku': 431, 'agen': 432, 'temensaya': 433, 'aturan': 434, 'mengaji': 435, 'bertindak': 436, 'mencekik': 437, 'kemaluan': 438, 'menyakiti': 439, 'berdarah': 440, 'keperluan': 441, 'karna': 442, 'pelatihan': 443, 'kursi': 444, 'main': 445, 'memeluk': 446, 'dibekap': 447, 'dicabuli': 448, 'vital': 449, 'suara': 450, 'dengar': 451, 'tida': 452, 'membunuh': 453, 'ketakutan': 454, 'cerewet': 455, 'enggak': 456, 'diserahkan': 457, 'kekayaan': 458, 'menyayangi': 459, 'taryumi': 460, 'dijebak': 461, 'dikeluarga': 462, 'kegitan': 463, 'ditinggalkan': 464, 'ngotot': 465, 'tampar': 466, 'lukak': 467, 'kebutuhannya': 468, 'megalami': 469, 'mencambuk': 470, 'lua': 471, 'kekuatan': 472, 'aksi': 473, 'niat': 474, 'cucu': 475, 'menenangkan': 476, 'kandung': 477, 'kandungnya': 478, 'ibunya': 479, 'pamit': 480, 'brunei': 481, 'swasta': 482, 'terbesar': 483, 'mendukungnya': 484, 'menelepon': 485, 'paksaan': 486, 'mandor': 487, 'bahasa': 488, 'kena': 489, 'sebentar': 490, 'dipaksakan': 491, 'kontrol': 492, 'bantuan': 493, 'pemerintah': 494, 'kalautidak': 495, 'salaha': 496, 'lihat': 497, 'kura': 498, 'motif': 499, 'tujuan': 500, 'telusuri': 501, 'ternyta': 502, 'bertiak': 503, 'memintak': 504, 'sepengatuannya': 505, 'titik': 506, 'sewenang': 507, 'wenang': 508, 'motor': 509, 'hobbynya': 510, 'disisi': 511, 'beralasan': 512, 'menjadikannya': 513, 'sepenuhnya': 514, 'dikelola': 515, 'kadang': 516, 'menggunakannya': 517, 'semena': 518, 'mena': 519, 'rawat': 520, 'disekap': 521, 'brosur': 522, 'petani': 523, 'diharuskan': 524, 'anggota': 525, 'prosedur': 526, 'besok': 527, 'diluarnegeri': 528, 'gigolo': 529, 'terpukul': 530, 'diperdagangkan': 531, 'kebelakang': 532, 'sikap': 533, 'cengkraman': 534, 'semalam': 535, 'menuduh': 536, 'leher': 537, 'dicekik': 538, 'disulut': 539, 'puntung': 540, 'rokok': 541, 'mengakuinya': 542, 'dilarang': 543, 'keputusan': 544, 'finansial': 545, 'mempengaruhi': 546, 'pertimbangan': 547, 'mintak': 548, 'membantunya': 549, 'hutangnya': 550, 'beres': 551, 'kepentingan': 552, 'menagih': 553, 'ancam': 554, 'becus': 555, 'mengurusi': 556, 'memaki': 557, 'menceraikannya': 558, 'menagis': 559, 'dikamar': 560, 'perkataannya': 561, 'menenangkannya': 562, 'terlhat': 563, 'dibully': 564, 'menyetujui': 565, 'menuruku': 566, 'napa': 567, 'dibiayain': 568, 'acara': 569, 'ayahnya': 570, 'diundang': 571, 'putusan': 572, 'tanggung': 573, 'tersbut': 574, 'kesini': 575, 'celah': 576, 'membelikannya': 577, 'punggungku': 578, 'melampiaskan': 579, 'kekesalannya': 580, 'orangorang': 581, 'sepakat': 582, 'lembur': 583, 'besoknya': 584, 'temanteman': 585, 'menaikkan': 586, 'dadaku': 587, 'memoto': 588, 'tubuhku': 589, 'grup': 590, 'pembullyan': 591, 'melaporkannya': 592, 'membahas': 593, 'ditinggal': 594, 'menghukum': 595, 'mengizinkan': 596, 'dada': 597, 'menghargai': 598, 'baikbaik': 599, 'menganai': 600, 'dihadapinnya': 601, 'pekerjaannya': 602, 'pelampiaskannya': 603, 'dicaci': 604, 'mahasiswa': 605, 'kampus': 606, 'jfhs': 607, 'afes': 608, 'dibanding': 609, 'ketemuan': 610, 'kontrakan': 611, 'sayang': 612, 'diporoti': 613, 'lokasi': 614, 'tempatnya': 615, 'menjebaknya': 616, 'arah': 617, 'prostitusi': 618, 'memarmemar': 619, 'banggakan': 620, 'bicara': 621, 'bagaiman': 622, 'tsb': 623, 'yg': 624, 'menurutku': 625, 'diumbar': 626, 'kasihannya': 627, 'beritau': 628, 'kebenarannya': 629, 'terganggu': 630, 'mentalnua': 631, 'melahirkan': 632, 'programer': 633, 'dalaam': 634, 'sesaui': 635, 'membela': 636, 'bis': 637, 'provinsi': 638, 'kosong': 639, 'terbayarkan': 640, 'mengomel': 641, 'cinta': 642, 'keahlian': 643, 'sasaran': 644, 'kemarahan': 645, 'usianya': 646, 'ojek': 647, 'keseharian': 648, 'berdampak': 649, 'drastis': 650, 'dibandingkan': 651, 'pendemi': 652, 'diperoleh': 653, 'cerai': 654, 'mencitainnya': 655, 'debit': 656, 'menyayanginya': 657, 'mendekati': 658, 'tenggat': 659, 'mengatas': 660, 'namakan': 661, 'tabungan': 662, 'dieksploitasi': 663, 'sayakarena': 664, 'mengiyakan': 665, 'meng': 666, 'kannya': 667, 'selang': 668, 'dansesampai': 669, 'rodi': 670, 'diselidiki': 671, 'mengkomunikasikan': 672, 'pekeja': 673, 'bebas': 674, 'menganiaya': 675, 'sepupuku': 676, 'memasak': 677, 'gerakannya': 678, 'menyentuh': 679, 'tanganku': 680, 'mengangkat': 681, 'panci': 682, 'kemalamanan': 683, 'memelukku': 684, 'memotong': 685, 'motong': 686, 'bahan': 687, 'masakan': 688, 'jijik': 689, 'menggesek': 690, 'gesekkan': 691, 'bokongku': 692, 'pejabat': 693, 'dikota': 694, 'merugikan': 695, 'kurun': 696, 'kesiapasiapa': 697, 'memaksakan': 698, 'mengembangkan': 699, 'passion': 700, 'berusah': 701, 'menemukan': 702, 'bakat': 703, 'berkembang': 704, 'ulang': 705, 'membelikan': 706, 'branded': 707, 'mahal': 708, 'pasalnya': 709, 'ngambek': 710, 'memutuskannya': 711, 'suasana': 712, 'hatinya': 713, 'keadan': 714, 'hadia': 715, 'membuatnya': 716, 'normal': 717, 'memperhatikan': 718, 'dompetnya': 719, 'indomaret': 720, 'dihina': 721, 'haid': 722, 'bukti': 723, 'menipu': 724, 'telpon': 725, 'memintaku': 726, 'mengatasnamakanku': 727, 'peminjam': 728, 'mantanku': 729, 'menghindar': 730, 'menyebarluaskan': 731, 'dirabaraba': 732, 'pintar': 733, 'menyuruh': 734, 'mengatai': 735, 'bodoh': 736, 'berguna': 737, 'cacian': 738, 'say': 739, 'turun': 740, 'tagu': 741, 'janda': 742, 'lelaki': 743, 'memperhatikanku': 744, 'uangku': 745, 'kutanyakan': 746, 'membiayai': 747, 'miliki': 748, 'hasil': 749, 'tabunganku': 750, 'kuberi': 751, 'dekatnya': 752, 'imingiming': 753, 'dibiayai': 754, 'panggil': 755, 'pendiam': 756, 'cupu': 757, 'denganku': 758, 'pulangku': 759, 'les': 760, 'mengikutiku': 761, 'kos': 762, 'ditarik': 763, 'vitalku': 764, 'peralatan': 765, 'pisau': 766, 'dapur': 767, 'gagang': 768, 'pel': 769, 'payung': 770, 'suyanti': 771, 'cedera': 772, 'serius': 773, 'pendaharan': 774, 'kulit': 775, 'patah': 776, 'tulang': 777, 'dikirimi': 778, 'porno': 779, 'mahasiswi': 780, 'semester': 781, 'asfaswc': 782, 'dasfsd': 783, 'pembimbing': 784, 'bimbingan': 785, 'skripsi': 786, 'lulus': 787, 'ajakan': 788, 'iyakan': 789, 'pertemuan': 790, 'me': 791, 'do': 792, 'seumuran': 793, 'amplop': 794, 'coklat': 795, 'neraka': 796, 'berpikir': 797, 'solusinya': 798, 'keributan': 799, 'dikontrol': 800, 'kebutuhanku': 801, 'aslinya': 802, 'persetujuanku': 803, 'kontak': 804, 'diimingimingi': 805, 'hastrat': 806, 'priapria': 807, 'melaui': 808, 'aplikasi': 809, 'lanjuti': 810, 'dialami': 811, 'afaserfs': 812, 'sekelasnya': 813, 'tenangkan': 814, 'tuanya': 815, 'bawa': 816, 'puskesmas': 817, 'dicek': 818, 'melamun': 819, 'jahanam': 820, 'alasannya': 821, 'sekalo': 822, 'disiska': 823, 'melepaskan': 824, 'dikasari': 825, 'lupa': 826, 'ngabari': 827, 'dibonceng': 828, 'lakilakiku': 829, 'dibenturkan': 830, 'tembok': 831, 'ucapan': 832, 'ssfneas': 833, 'tuaku': 834, 'berprestasi': 835, 'sd': 836, 'hukuman': 837, 'kenaikan': 838, 'nilaiku': 839, 'ranking': 840, 'membanding': 841, 'bandingkan': 842, 'menganggap': 843, 'dibawahnya': 844, 'sesak': 845, 'mengingatnya': 846, 'bertingkah': 847, 'berbeda': 848, 'akrab': 849, 'diapat': 850, 'cowo': 851, 'mengekang': 852, 'dampak': 853, 'ngoceh': 854, 'sempet': 855, 'terkekang': 856, 'diikuti': 857, 'melarang': 858, 'berencana': 859, 'dimalaysia': 860, 'penjaga': 861, 'warung': 862, 'pembeli': 863, 'kenalannya': 864, 'bagaiamana': 865, 'pulau': 866, 'jasa': 867, 'temukan': 868, 'media': 869, 'sosial': 870, 'harga': 871, 'murah': 872, 'risih': 873, 'pemandu': 874, 'melirik': 875, 'mencuri': 876, 'kesempatan': 877, 'pundak': 878, 'pantat': 879, 'kapal': 880, 'masuk': 881, 'melawan': 882, 'bekas': 883, 'lengan': 884, 'peserta': 885, 'darimana': 886, 'disitulah': 887, 'salahnya': 888, 'tren': 889, 'kebiasan': 890, 'ajak': 891, 'club': 892, 'ditawari': 893, 'minuman': 894, 'merampas': 895, 'memohon': 896, 'ditolak': 897, 'diterima': 898, 'cafe': 899, 'kematian': 900, 'berdasarkan': 901, 'negari': 902, 'ireguler': 903, 'singapura': 904, 'sinegal': 905, 'dipulangkan': 906, 'tanah': 907, 'air': 908, 'dimakamkan': 909, 'pemulangan': 910, 'meningkat': 911, 'tahuntahun': 912, 'ditangani': 913, 'pt': 914, 'maju': 915, 'lancar': 916, 'jaya': 917, 'umr': 918, 'juta': 919, 'ribu': 920, 'dibutuhkan': 921, 'menjalani': 922, 'dijodohkan': 923, 'mengatur': 924, 'pakaian': 925, 'perdagangan': 926, 'manusia': 927, 'pns': 928, 'sellau': 929, 'slelau': 930, 'cewek': 931, 'selalunya': 932, 'samapai': 933, 'sekolahnya': 934, 'keluargasaya': 935, 'berantakan': 936, 'orangtuasaya': 937, 'kesana': 938, 'kemari': 939, 'kearas': 940, 'parah': 941, 'panti': 942, 'asuhan': 943, 'dijalan': 944, 'menyerahkan': 945, 'hasilnya': 946, 'betah': 947, 'penganiayaan': 948, 'kerena': 949, 'sapu': 950, 'dibentak': 951, 'percaya': 952, 'omongan': 953, 'barunya': 954, 'sakitsakitan': 955, 'diperbolehkan': 956, 'penyakit': 957, 'pengobatan': 958, 'metode': 959, 'hipnoterapi': 960, 'spiritual': 961, 'kesembuhan': 962, 'aja': 963, 'laboratorium': 964, 'mikrofarmasi': 965, 'mengobati': 966, 'dipeluk': 967, 'erat': 968, 'dicium': 969, 'mengumpulkan': 970, 'perkawinan': 971, 'hubunganku': 972, 'dipertahankan': 973, 'keknya': 974, 'gila': 975, 'wajar': 976, 'perek': 977, 'dinafkahi': 978, 'perempuannya': 979, 'istrinya': 980, 'pertolongan': 981, 'punggung': 982, 'membuatkan': 983, 'mengendalikan': 984, 'akses': 985, 'keuanganku': 986, 'penahanan': 987, 'rekening': 988, 'menguntit': 989, 'keruangan': 990, 'pribadi': 991, 'kayu': 992, 'tinggak': 993, 'populer': 994, 'mengalahkan': 995, 'prestasi': 996, 'kaka': 997, 'berhutang': 998, 'kejar': 999, 'adikku': 1000, 'kepulangannya': 1001, 'jatuh': 1002, 'anakku': 1003, 'pribadinya': 1004, 'menyelidiki': 1005, 'diperas': 1006, 'habisan': 1007, 'asuransi': 1008, 'administasi': 1009, 'muka': 1010, 'peras': 1011, 'kemauan': 1012, 'pendidikan': 1013, 'kedokteran': 1014, 'mengininkannya': 1015, 'memakimaki': 1016, 'menelantarkan': 1017, 'tamat': 1018, 'menjajikan': 1019, 'kuranglebih': 1020, 'telilit': 1021, 'temoatkerjanya': 1022, 'jebakan': 1023, 'ditempatnyabekerja': 1024, 'kerjanya': 1025, 'berbau': 1026, 'seks': 1027, 'terjebak': 1028, 'tpa': 1029, 'murung': 1030, 'mengajinya': 1031, 'diperlakukan': 1032, 'gurunya': 1033, 'kerap': 1034, 'menciumnya': 1035, 'tubuhnya': 1036, 'memperkosanya': 1037, 'single': 1038, 'parent': 1039, 'disegani': 1040, 'dengannya': 1041, 'sdaefs': 1042, 'setahun': 1043, 'perintahnya': 1044, 'hasratnya': 1045, 'seringkali': 1046, 'genggeng': 1047, 'cantik': 1048, 'menyukai': 1049, 'bosan': 1050, 'terlibat': 1051, 'beli': 1052, 'memungut': 1053, 'dijalanan': 1054, 'menjualnya': 1055, 'parahnya': 1056, 'membereskan': 1057, 'nafsunya': 1058, 'sya': 1059, 'melukai': 1060, 'melempar': 1061, 'panas': 1062, 'suguhkan': 1063, 'kebadan': 1064, 'tenaga': 1065, 'negara': 1066, 'diberangkatkan': 1067, 'mencarinya': 1068, 'medsos': 1069, 'datangi': 1070, 'lembaga': 1071, 'mengirimnya': 1072, 'human': 1073, 'trafiking': 1074, 'marak': 1075, 'berimbas': 1076, 'kacau': 1077, 'bentak': 1078, 'menambah': 1079, 'penghasilan': 1080, 'tanggungan': 1081, 'dibawah': 1082, 'raguragu': 1083, 'waras': 1084, 'raba': 1085, 'payudaraku': 1086, 'rumahku': 1087, 'melakukannya': 1088, 'mengunjungi': 1089, 'lokasinya': 1090, 'lumaya': 1091, 'diluar': 1092, 'duduk': 1093, 'sembari': 1094, 'disaat': 1095, 'gerak': 1096, 'gerik': 1097, 'mencurigakan': 1098, 'khawatir': 1099, 'pintu': 1100, 'ditutup': 1101, 'dikunci': 1102, 'memeras': 1103, 'payudara': 1104, 'menarik': 1105, 'teriak': 1106, 'mulut': 1107, 'pasrah': 1108, 'hasrat': 1109, 'menyaksikan': 1110, 'ekonomi': 1111, 'menceritakan': 1112, 'disekitar': 1113, 'memasukan': 1114, 'alat': 1115, 'kelaminnya': 1116, 'kedalam': 1117, 'lubang': 1118, 'anus': 1119, 'mulutnya': 1120, 'dibungkan': 1121, 'tangannya': 1122, 'pondok': 1123, 'pesantrennya': 1124, 'menceritakannya': 1125, 'merabaraba': 1126, 'kejinya': 1127, 'menggesek\\x02gesekkan': 1128, 'spermanya': 1129, 'lapor': 1130, 'diluluskan': 1131, 'keadilan': 1132, 'orangtuaku': 1133, 'tante': 1134, 'bibi': 1135, 'seksualnya': 1136, 'berbicarakepada': 1137, 'batu': 1138, 'dilempar': 1139, 'berpisah': 1140, 'perkerjaannya': 1141, 'notaris': 1142, 'memperlakukanku': 1143, 'enak': 1144, 'bertahuntahun': 1145, 'kekuasaan': 1146, 'kesiapa': 1147, 'berpindah': 1148, 'timbang': 1149, 'ketempat': 1150, 'list': 1151, 'ragu': 1152, 'merekam': 1153, 'diriku': 1154, 'mengganti': 1155, 'video': 1156, 'berjajni': 1157, 'kembalikan': 1158, 'belom': 1159, 'berelang': 1160, 'dimntakuntuk': 1161, 'janji': 1162, 'marahmarah': 1163, 'menendanganya': 1164, 'meninggalan': 1165, 'membujuknya': 1166, 'setuju': 1167, 'kesakitan': 1168, 'perlauan': 1169, 'kanan': 1170, 'berfungsi': 1171, 'dipakai': 1172, 'lepas': 1173, 'diizinkan': 1174, 'perjanjian': 1175, 'pembagian': 1176, 'tertera': 1177, 'surat': 1178, 'perceraian': 1179, 'dapatkan': 1180, 'milikku': 1181, 'tifak': 1182, 'menghukumku': 1183, 'anggap': 1184, 'perekonomiannya': 1185, 'karyawan': 1186, 'kafe': 1187, 'dititip': 1188, 'ditempatkan': 1189, 'pengamanan': 1190, 'ketat': 1191, 'biar': 1192, 'berusaha': 1193, 'layanan': 1194, 'gajinya': 1195, 'dipotong': 1196, 'bersakitsakit': 1197, 'nasi': 1198, 'garam': 1199, 'pemilik': 1200, 'ganti': 1201, 'didik': 1202, 'mencintainya': 1203, 'produk': 1204, 'dibandingbandingkan': 1205, 'saudaranya': 1206, 'hamil': 1207, 'angat': 1208, 'mengurung': 1209, 'megancam': 1210, 'menjauh': 1211, 'muak': 1212, 'tingkah': 1213, 'menyukainya': 1214, 'dilecehkan': 1215, 'kusukai': 1216, 'gorengan': 1217, 'berdesakan': 1218, 'si': 1219, 'cowok': 1220, 'menggesekkan': 1221, 'vitalnya': 1222, 'bokong': 1223, 'disengaja': 1224, 'disalahkan': 1225, 'menimpanya': 1226}\n",
            "\n",
            "Sequences data pertama\n",
            "[12, 164, 22, 23, 129, 12, 9, 129, 165, 130, 130, 18, 462, 463, 2, 464, 164, 37, 129, 2, 18, 465, 18, 10, 265, 129, 79, 466, 103, 467, 131]\n",
            "\n",
            "Padding data pertama\n",
            "[ 12 164  22  23 129  12   9 129 165 130 130  18 462 463   2 464 164  37\n",
            " 129   2  18 465  18  10 265 129  79 466 103 467 131   0   0   0   0   0\n",
            "   0   0   0   0   0   0   0   0   0   0   0   0   0   0   0   0   0   0\n",
            "   0   0   0   0   0   0   0   0   0   0   0   0   0   0   0   0   0   0\n",
            "   0   0   0   0   0   0   0   0   0   0   0   0   0   0   0   0   0   0\n",
            "   0   0   0   0   0   0   0   0   0   0   0   0   0   0   0   0   0   0\n",
            "   0   0   0   0   0   0   0   0   0   0   0   0]\n",
            "\n",
            "Tottal padding : 120\n"
          ],
          "name": "stdout"
        }
      ]
    },
    {
      "cell_type": "code",
      "metadata": {
        "id": "XYlwKDhfa-mW"
      },
      "source": [
        ""
      ],
      "execution_count": null,
      "outputs": []
    },
    {
      "cell_type": "markdown",
      "metadata": {
        "id": "dLDLs1D2bCb6"
      },
      "source": [
        "## Build And Train Model"
      ]
    },
    {
      "cell_type": "code",
      "metadata": {
        "id": "7Yno80xCbD_T"
      },
      "source": [
        "model = tf.keras.Sequential([\n",
        "    tf.keras.layers.Embedding(vocab_size, embedding_dim, input_length=max_length),\n",
        "    tf.keras.layers.GlobalAveragePooling1D(),\n",
        "    tf.keras.layers.Dense(128, activation='relu'),\n",
        "    tf.keras.layers.Dense(24, activation='relu'),\n",
        "    tf.keras.layers.Dense(7, activation='softmax')\n",
        "])\n",
        "model.compile(loss='sparse_categorical_crossentropy',optimizer='adam',metrics=['accuracy'])"
      ],
      "execution_count": 31,
      "outputs": []
    },
    {
      "cell_type": "code",
      "metadata": {
        "colab": {
          "base_uri": "https://localhost:8080/"
        },
        "id": "pk-TXHZ7bIV4",
        "outputId": "c97eee0a-bc0c-47ee-f32c-c59ff2f07f5e"
      },
      "source": [
        "model.summary()"
      ],
      "execution_count": 32,
      "outputs": [
        {
          "output_type": "stream",
          "text": [
            "Model: \"sequential\"\n",
            "_________________________________________________________________\n",
            "Layer (type)                 Output Shape              Param #   \n",
            "=================================================================\n",
            "embedding (Embedding)        (None, 120, 16)           16000     \n",
            "_________________________________________________________________\n",
            "global_average_pooling1d (Gl (None, 16)                0         \n",
            "_________________________________________________________________\n",
            "dense (Dense)                (None, 128)               2176      \n",
            "_________________________________________________________________\n",
            "dense_1 (Dense)              (None, 24)                3096      \n",
            "_________________________________________________________________\n",
            "dense_2 (Dense)              (None, 7)                 175       \n",
            "=================================================================\n",
            "Total params: 21,447\n",
            "Trainable params: 21,447\n",
            "Non-trainable params: 0\n",
            "_________________________________________________________________\n"
          ],
          "name": "stdout"
        }
      ]
    },
    {
      "cell_type": "code",
      "metadata": {
        "colab": {
          "base_uri": "https://localhost:8080/"
        },
        "id": "1VEaYD_fbK3y",
        "outputId": "ad102b01-9e8e-464b-b542-3f1c28d154cd"
      },
      "source": [
        "num_epochs = 50\n",
        "history = model.fit(train_padded, training_label_seq, epochs=num_epochs, validation_data=(validation_padded, validation_label_seq))"
      ],
      "execution_count": 33,
      "outputs": [
        {
          "output_type": "stream",
          "text": [
            "Epoch 1/50\n",
            "6/6 [==============================] - 1s 42ms/step - loss: 1.9432 - accuracy: 0.1792 - val_loss: 1.9375 - val_accuracy: 0.1765\n",
            "Epoch 2/50\n",
            "6/6 [==============================] - 0s 9ms/step - loss: 1.9351 - accuracy: 0.1734 - val_loss: 1.9297 - val_accuracy: 0.1765\n",
            "Epoch 3/50\n",
            "6/6 [==============================] - 0s 10ms/step - loss: 1.9275 - accuracy: 0.1734 - val_loss: 1.9219 - val_accuracy: 0.1765\n",
            "Epoch 4/50\n",
            "6/6 [==============================] - 0s 9ms/step - loss: 1.9191 - accuracy: 0.1734 - val_loss: 1.9132 - val_accuracy: 0.1765\n",
            "Epoch 5/50\n",
            "6/6 [==============================] - 0s 9ms/step - loss: 1.9109 - accuracy: 0.1734 - val_loss: 1.9039 - val_accuracy: 0.1765\n",
            "Epoch 6/50\n",
            "6/6 [==============================] - 0s 10ms/step - loss: 1.9007 - accuracy: 0.1734 - val_loss: 1.8938 - val_accuracy: 0.1765\n",
            "Epoch 7/50\n",
            "6/6 [==============================] - 0s 8ms/step - loss: 1.8902 - accuracy: 0.1734 - val_loss: 1.8831 - val_accuracy: 0.1765\n",
            "Epoch 8/50\n",
            "6/6 [==============================] - 0s 8ms/step - loss: 1.8795 - accuracy: 0.1734 - val_loss: 1.8716 - val_accuracy: 0.1765\n",
            "Epoch 9/50\n",
            "6/6 [==============================] - 0s 9ms/step - loss: 1.8685 - accuracy: 0.1734 - val_loss: 1.8601 - val_accuracy: 0.1765\n",
            "Epoch 10/50\n",
            "6/6 [==============================] - 0s 8ms/step - loss: 1.8576 - accuracy: 0.1734 - val_loss: 1.8492 - val_accuracy: 0.1765\n",
            "Epoch 11/50\n",
            "6/6 [==============================] - 0s 8ms/step - loss: 1.8469 - accuracy: 0.2543 - val_loss: 1.8390 - val_accuracy: 0.1765\n",
            "Epoch 12/50\n",
            "6/6 [==============================] - 0s 9ms/step - loss: 1.8373 - accuracy: 0.2023 - val_loss: 1.8299 - val_accuracy: 0.1765\n",
            "Epoch 13/50\n",
            "6/6 [==============================] - 0s 8ms/step - loss: 1.8280 - accuracy: 0.1734 - val_loss: 1.8215 - val_accuracy: 0.1765\n",
            "Epoch 14/50\n",
            "6/6 [==============================] - 0s 7ms/step - loss: 1.8201 - accuracy: 0.1734 - val_loss: 1.8142 - val_accuracy: 0.1765\n",
            "Epoch 15/50\n",
            "6/6 [==============================] - 0s 10ms/step - loss: 1.8132 - accuracy: 0.1734 - val_loss: 1.8078 - val_accuracy: 0.1765\n",
            "Epoch 16/50\n",
            "6/6 [==============================] - 0s 7ms/step - loss: 1.8070 - accuracy: 0.1734 - val_loss: 1.8032 - val_accuracy: 0.1765\n",
            "Epoch 17/50\n",
            "6/6 [==============================] - 0s 8ms/step - loss: 1.8027 - accuracy: 0.1734 - val_loss: 1.7988 - val_accuracy: 0.1765\n",
            "Epoch 18/50\n",
            "6/6 [==============================] - 0s 8ms/step - loss: 1.7981 - accuracy: 0.1734 - val_loss: 1.7953 - val_accuracy: 0.1765\n",
            "Epoch 19/50\n",
            "6/6 [==============================] - 0s 9ms/step - loss: 1.7950 - accuracy: 0.1734 - val_loss: 1.7926 - val_accuracy: 0.1765\n",
            "Epoch 20/50\n",
            "6/6 [==============================] - 0s 9ms/step - loss: 1.7924 - accuracy: 0.1734 - val_loss: 1.7907 - val_accuracy: 0.1765\n",
            "Epoch 21/50\n",
            "6/6 [==============================] - 0s 9ms/step - loss: 1.7895 - accuracy: 0.2023 - val_loss: 1.7888 - val_accuracy: 0.1765\n",
            "Epoch 22/50\n",
            "6/6 [==============================] - 0s 15ms/step - loss: 1.7879 - accuracy: 0.3064 - val_loss: 1.7874 - val_accuracy: 0.1176\n",
            "Epoch 23/50\n",
            "6/6 [==============================] - 0s 10ms/step - loss: 1.7866 - accuracy: 0.2659 - val_loss: 1.7861 - val_accuracy: 0.1765\n",
            "Epoch 24/50\n",
            "6/6 [==============================] - 0s 10ms/step - loss: 1.7838 - accuracy: 0.1850 - val_loss: 1.7857 - val_accuracy: 0.1765\n",
            "Epoch 25/50\n",
            "6/6 [==============================] - 0s 8ms/step - loss: 1.7826 - accuracy: 0.1965 - val_loss: 1.7849 - val_accuracy: 0.1765\n",
            "Epoch 26/50\n",
            "6/6 [==============================] - 0s 8ms/step - loss: 1.7802 - accuracy: 0.2659 - val_loss: 1.7836 - val_accuracy: 0.2353\n",
            "Epoch 27/50\n",
            "6/6 [==============================] - 0s 8ms/step - loss: 1.7801 - accuracy: 0.2948 - val_loss: 1.7835 - val_accuracy: 0.1765\n",
            "Epoch 28/50\n",
            "6/6 [==============================] - 0s 9ms/step - loss: 1.7758 - accuracy: 0.2312 - val_loss: 1.7821 - val_accuracy: 0.1765\n",
            "Epoch 29/50\n",
            "6/6 [==============================] - 0s 8ms/step - loss: 1.7755 - accuracy: 0.2601 - val_loss: 1.7806 - val_accuracy: 0.2941\n",
            "Epoch 30/50\n",
            "6/6 [==============================] - 0s 9ms/step - loss: 1.7719 - accuracy: 0.4046 - val_loss: 1.7795 - val_accuracy: 0.2941\n",
            "Epoch 31/50\n",
            "6/6 [==============================] - 0s 8ms/step - loss: 1.7691 - accuracy: 0.3699 - val_loss: 1.7789 - val_accuracy: 0.3529\n",
            "Epoch 32/50\n",
            "6/6 [==============================] - 0s 8ms/step - loss: 1.7664 - accuracy: 0.3699 - val_loss: 1.7780 - val_accuracy: 0.1765\n",
            "Epoch 33/50\n",
            "6/6 [==============================] - 0s 9ms/step - loss: 1.7641 - accuracy: 0.2890 - val_loss: 1.7782 - val_accuracy: 0.1765\n",
            "Epoch 34/50\n",
            "6/6 [==============================] - 0s 9ms/step - loss: 1.7616 - accuracy: 0.2197 - val_loss: 1.7770 - val_accuracy: 0.1765\n",
            "Epoch 35/50\n",
            "6/6 [==============================] - 0s 9ms/step - loss: 1.7561 - accuracy: 0.3064 - val_loss: 1.7742 - val_accuracy: 0.2941\n",
            "Epoch 36/50\n",
            "6/6 [==============================] - 0s 8ms/step - loss: 1.7534 - accuracy: 0.3237 - val_loss: 1.7735 - val_accuracy: 0.1765\n",
            "Epoch 37/50\n",
            "6/6 [==============================] - 0s 8ms/step - loss: 1.7494 - accuracy: 0.3699 - val_loss: 1.7709 - val_accuracy: 0.2941\n",
            "Epoch 38/50\n",
            "6/6 [==============================] - 0s 8ms/step - loss: 1.7445 - accuracy: 0.3988 - val_loss: 1.7687 - val_accuracy: 0.4706\n",
            "Epoch 39/50\n",
            "6/6 [==============================] - 0s 8ms/step - loss: 1.7407 - accuracy: 0.3873 - val_loss: 1.7670 - val_accuracy: 0.2941\n",
            "Epoch 40/50\n",
            "6/6 [==============================] - 0s 9ms/step - loss: 1.7324 - accuracy: 0.3526 - val_loss: 1.7656 - val_accuracy: 0.1765\n",
            "Epoch 41/50\n",
            "6/6 [==============================] - 0s 9ms/step - loss: 1.7265 - accuracy: 0.3815 - val_loss: 1.7639 - val_accuracy: 0.2353\n",
            "Epoch 42/50\n",
            "6/6 [==============================] - 0s 9ms/step - loss: 1.7187 - accuracy: 0.3699 - val_loss: 1.7609 - val_accuracy: 0.2941\n",
            "Epoch 43/50\n",
            "6/6 [==============================] - 0s 9ms/step - loss: 1.7113 - accuracy: 0.3064 - val_loss: 1.7592 - val_accuracy: 0.2353\n",
            "Epoch 44/50\n",
            "6/6 [==============================] - 0s 9ms/step - loss: 1.7003 - accuracy: 0.3006 - val_loss: 1.7556 - val_accuracy: 0.3529\n",
            "Epoch 45/50\n",
            "6/6 [==============================] - 0s 9ms/step - loss: 1.6944 - accuracy: 0.3584 - val_loss: 1.7532 - val_accuracy: 0.2941\n",
            "Epoch 46/50\n",
            "6/6 [==============================] - 0s 8ms/step - loss: 1.6810 - accuracy: 0.3295 - val_loss: 1.7490 - val_accuracy: 0.2941\n",
            "Epoch 47/50\n",
            "6/6 [==============================] - 0s 8ms/step - loss: 1.6794 - accuracy: 0.3237 - val_loss: 1.7539 - val_accuracy: 0.1765\n",
            "Epoch 48/50\n",
            "6/6 [==============================] - 0s 9ms/step - loss: 1.6633 - accuracy: 0.3584 - val_loss: 1.7381 - val_accuracy: 0.2941\n",
            "Epoch 49/50\n",
            "6/6 [==============================] - 0s 8ms/step - loss: 1.6440 - accuracy: 0.4104 - val_loss: 1.7329 - val_accuracy: 0.2941\n",
            "Epoch 50/50\n",
            "6/6 [==============================] - 0s 8ms/step - loss: 1.6314 - accuracy: 0.3757 - val_loss: 1.7284 - val_accuracy: 0.2941\n"
          ],
          "name": "stdout"
        }
      ]
    },
    {
      "cell_type": "code",
      "metadata": {
        "id": "w03yygJPbRzx"
      },
      "source": [
        ""
      ],
      "execution_count": null,
      "outputs": []
    },
    {
      "cell_type": "markdown",
      "metadata": {
        "id": "nTfM40mVbYJO"
      },
      "source": [
        "## Model ussage"
      ]
    },
    {
      "cell_type": "code",
      "metadata": {
        "colab": {
          "base_uri": "https://localhost:8080/"
        },
        "id": "hAmY3lOWbZlJ",
        "outputId": "213afc02-9619-4410-ffdb-d819d0da7f25"
      },
      "source": [
        "new_sentence = ['Pacar saya selalu menghukum saya dan tidak boleh mengizinkan saya keluar bermain dengan teman saya']\n",
        "new_sequences = tokenizer.texts_to_sequences(new_sentence)\n",
        "new_padded = pad_sequences(new_sequences, maxlen=max_length, padding=padding_type, truncating=trunc_type)\n",
        "print(model.predict(new_padded))"
      ],
      "execution_count": 34,
      "outputs": [
        {
          "output_type": "stream",
          "text": [
            "[[0.00096517 0.19527426 0.17377359 0.1695943  0.1829824  0.15502469\n",
            "  0.12238562]]\n"
          ],
          "name": "stdout"
        }
      ]
    },
    {
      "cell_type": "markdown",
      "metadata": {
        "id": "YZdxB5WYbc9N"
      },
      "source": [
        "### Saved Model"
      ]
    },
    {
      "cell_type": "code",
      "metadata": {
        "id": "XGdy26rSbbIg"
      },
      "source": [
        "from keras.models import load_model\n",
        "model.save('/content/drive/MyDrive/Capstone B21-CAP0220/Progress ML/my_model.h5') "
      ],
      "execution_count": 35,
      "outputs": []
    },
    {
      "cell_type": "code",
      "metadata": {
        "colab": {
          "base_uri": "https://localhost:8080/"
        },
        "id": "3JfrlHfTb49s",
        "outputId": "635c0bc3-3fb7-4847-c552-b80c219382aa"
      },
      "source": [
        "os.listdir('/content/drive/MyDrive/Capstone B21-CAP0220/Progress ML')"
      ],
      "execution_count": 36,
      "outputs": [
        {
          "output_type": "execute_result",
          "data": {
            "text/plain": [
              "['Capstone.ipynb',\n",
              " 'stopwordsindo.txt',\n",
              " 'DatasetSAPPA.csv',\n",
              " 'DatasetSAPPA.zip',\n",
              " 'my_model.h5']"
            ]
          },
          "metadata": {
            "tags": []
          },
          "execution_count": 36
        }
      ]
    },
    {
      "cell_type": "markdown",
      "metadata": {
        "id": "xaZHgeDXcJff"
      },
      "source": [
        "### Load Model"
      ]
    },
    {
      "cell_type": "code",
      "metadata": {
        "id": "DhrcoohUcKiS"
      },
      "source": [
        "pickle.dump(tokenizer, open('/content/drive/MyDrive/Capstone B21-CAP0220/Progress ML/tokenizer.pkl', 'wb'))"
      ],
      "execution_count": 40,
      "outputs": []
    },
    {
      "cell_type": "code",
      "metadata": {
        "colab": {
          "base_uri": "https://localhost:8080/"
        },
        "id": "o-h43c6vdBAM",
        "outputId": "e9c4c4e4-7ea9-4362-8161-3f37640460ba"
      },
      "source": [
        "os.listdir('/content/drive/MyDrive/Capstone B21-CAP0220/Progress ML')"
      ],
      "execution_count": 42,
      "outputs": [
        {
          "output_type": "execute_result",
          "data": {
            "text/plain": [
              "['Capstone.ipynb',\n",
              " 'stopwordsindo.txt',\n",
              " 'DatasetSAPPA.csv',\n",
              " 'DatasetSAPPA.zip',\n",
              " 'my_model.h5',\n",
              " 'tokenizer.pkl']"
            ]
          },
          "metadata": {
            "tags": []
          },
          "execution_count": 42
        }
      ]
    },
    {
      "cell_type": "markdown",
      "metadata": {
        "id": "DyNSATe0dO6s"
      },
      "source": [
        "Rsult: \n",
        "- Model : my_model.h5\n",
        "- Tokenizer : tokenizer.pkl"
      ]
    }
  ]
}